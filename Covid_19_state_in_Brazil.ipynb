{
  "nbformat": 4,
  "nbformat_minor": 0,
  "metadata": {
    "colab": {
      "name": "Covid-19 state in Brazil",
      "provenance": [],
      "collapsed_sections": [],
      "include_colab_link": true
    },
    "kernelspec": {
      "name": "python3",
      "display_name": "Python 3"
    }
  },
  "cells": [
    {
      "cell_type": "markdown",
      "metadata": {
        "id": "view-in-github",
        "colab_type": "text"
      },
      "source": [
        "<a href=\"https://colab.research.google.com/github/Leomconti/data_science/blob/main/Covid_19_state_in_Brazil.ipynb\" target=\"_parent\"><img src=\"https://colab.research.google.com/assets/colab-badge.svg\" alt=\"Open In Colab\"/></a>"
      ]
    },
    {
      "cell_type": "markdown",
      "metadata": {
        "id": "-eFQZydM9O9J"
      },
      "source": [
        "by Leonardo Mosimann Conti\n",
        "\n",
        "* [github](https://github.com/Leomconti)\n",
        "\n",
        "* [linkedin](https://www.linkedin.com/in/leomconti/)\n",
        "\n",
        "* [medium](https://medium.com/@leomconti)"
      ]
    },
    {
      "cell_type": "markdown",
      "metadata": {
        "id": "kLI0gJtzDGuQ"
      },
      "source": [
        "# <center>Covid-19 State in Brazil</center>\n",
        "\n",
        "**COVID-19 is an infeccious disease** that has come to our knowledge in January 7th of 2020, by Chinese authorities, after pneumonia cases of unknown causes were being reported all over Wuhan City, China.\n",
        "\n",
        "The virus can be transmitted by direct contact with an **infected person**, or touching a surface that has been contaminated. It can also be transmitted by small or large droplets left by a covid-19 carrier. The virus can also spread through **airbone transmission**, via smaller droplets that can travel longer distances and time suspended in the air.\n",
        "\n",
        "The World Health Organization declared the outbreak a **Public Health Emergency** of International Concern on 30 January 2020, and a **pandemic** on 11 March 2020.\n",
        "\n",
        "<center><img width = \"30%\" src = \"https://image.freepik.com/free-vector/coronavirus-protection-background-with-face-mask_23-2148683822.jpg\"></center>\n",
        "\n",
        "The **symptoms vary person to person**, some can have no reaction, or have a mild fever and some coughs, but in more serious cases it can leave sequelae in the respiratory system and in the patients health for more than weeks, or even cause death.\n",
        "\n",
        "So far around 80% of the people have no, or moderate symptoms, but in serious cases, of around 5% of infected, there is a 50% chance of **death** if treatment doesn't come soon enough.\n",
        "\n",
        "In 2021 most countries are already **vaccinating its population**, starting with the **eldery** people, and **frontline workers**. As more effective vaccines are being researched and tested, the ones used so far are being used so the virus can't reach more **severe** stages, so medical centers aren't **overloaded** with patients.\n",
        "\n",
        "<center><img width = \"30%\" src=\"https://www.paho.org/sites/default/files/styles/flexslider_full/public/2021-01/covid-19-vaccination-1500-991-2.jpg?h=33d2e14c&itok=nHmyhd3y\"></center>\n",
        "\n",
        "With the objective of elevating situational **consciousness** about **COVID-19** in Brazil, and in the world, an analysis of the public Coronavirus data will be done in this notebook.\n"
      ]
    },
    {
      "cell_type": "markdown",
      "metadata": {
        "id": "0zxQHhIUDF_2"
      },
      "source": [
        "## Obtenção dos Dados\n",
        "\n",
        "All data was aquired through [Our World In Data](https://ourworldindata.org/coronavirus), the download link for the dataset can be found in their website.\n",
        "\n",
        "\n",
        "\n"
      ]
    },
    {
      "cell_type": "markdown",
      "metadata": {
        "id": "Ev5jllvac8Sy"
      },
      "source": [
        "## Variable Dictionary\n",
        "\n",
        "In order to make the variable dictionary, I used some webscraping tools to select the variables and its description directly from the Datasets [github](https://github.com/owid/covid-19-data/blob/master/public/data/owid-covid-codebook.csv).\n",
        "\n",
        "*Obs: Code cells for scraping are hidden below the variable dictionary*\n",
        "\n",
        "\n",
        "* `iso_code` - International Organization for Standardization\n",
        "* `continent` - Our World in Data\n",
        "* `location` - Our World in Data\n",
        "* `date` - Our World in Data\n",
        "* `total_cases` - COVID-19 Data Repository by the Center for Systems Science and Engineering (CSSE) at Johns Hopkins University\n",
        "* `new_cases` - COVID-19 Data Repository by the Center for Systems Science and Engineering (CSSE) at Johns Hopkins University\n",
        "* `new_cases_smoothed` - COVID-19 Data Repository by the Center for Systems Science and Engineering (CSSE) at Johns Hopkins University\n",
        "* `total_deaths` - COVID-19 Data Repository by the Center for Systems Science and Engineering (CSSE) at Johns Hopkins University\n",
        "* `new_deaths` - COVID-19 Data Repository by the Center for Systems Science and Engineering (CSSE) at Johns Hopkins University\n",
        "* `new_deaths_smoothed` - COVID-19 Data Repository by the Center for Systems Science and Engineering (CSSE) at Johns Hopkins University\n",
        "* `total_cases_per_million` - COVID-19 Data Repository by the Center for Systems Science and Engineering (CSSE) at Johns Hopkins University\n",
        "* `new_cases_per_million` - COVID-19 Data Repository by the Center for Systems Science and Engineering (CSSE) at Johns Hopkins University\n",
        "* `new_cases_smoothed_per_million` - COVID-19 Data Repository by the Center for Systems Science and Engineering (CSSE) at Johns Hopkins University\n",
        "* `total_deaths_per_million` - COVID-19 Data Repository by the Center for Systems Science and Engineering (CSSE) at Johns Hopkins University\n",
        "* `new_deaths_per_million` - COVID-19 Data Repository by the Center for Systems Science and Engineering (CSSE) at Johns Hopkins University\n",
        "* `new_deaths_smoothed_per_million` - COVID-19 Data Repository by the Center for Systems Science and Engineering (CSSE) at Johns Hopkins University\n",
        "* `reproduction_rate` - Arroyo Marioli et al. (2020). https://doi.org/10.2139/ssrn.3581633\n",
        "* `icu_patients` - European CDC for European countries / UK Government / HHS for the United States / COVID-19 Tracker for Canada\n",
        "* `icu_patients_per_million` - European CDC for European countries / UK Government / HHS for the United States / COVID-19 Tracker for Canada\n",
        "* `hosp_patients` - European CDC for European countries / UK Government / HHS for the United States / COVID-19 Tracker for Canada\n",
        "* `hosp_patients_per_million` - European CDC for European countries / UK Government / HHS for the United States / COVID-19 Tracker for Canada\n",
        "* `weekly_icu_admissions` - European CDC for European countries / UK Government\n",
        "* `weekly_icu_admissions_per_million` - European CDC for European countries / UK Government\n",
        "* `weekly_hosp_admissions` - European CDC for European countries / UK Government / HHS for the United States\n",
        "* `weekly_hosp_admissions_per_million` - European CDC for European countries / UK Government / HHS for the United States\n",
        "* `total_tests` - National government reports\n",
        "* `new_tests` - National government reports\n",
        "* `total_tests_per_thousand` - National government reports\n",
        "* `new_tests_per_thousand` - National government reports\n",
        "* `new_tests_smoothed` - National government reports\n",
        "* `new_tests_smoothed_per_thousand` - National government reports\n",
        "* `positive_rate` - National government reports\n",
        "* `tests_per_case` - National government reports\n",
        "* `tests_units` - National government reports\n",
        "* `total_vaccinations` - National government reports\n",
        "* `people_vaccinated` - National government reports\n",
        "* `people_fully_vaccinated` - National government reports\n",
        "* `new_vaccinations` - National government reports\n",
        "* `new_vaccinations_smoothed` - National government reports\n",
        "* `total_vaccinations_per_hundred` - National government reports\n",
        "* `people_vaccinated_per_hundred` - National government reports\n",
        "* `people_fully_vaccinated_per_hundred` - National government reports\n",
        "* `new_vaccinations_smoothed_per_million` - National government reports\n",
        "* `stringency_index` - Oxford COVID-19 Government Response Tracker - Blavatnik School of Government\n",
        "* `population` - United Nations - Department of Economic and Social Affairs - Population Division - World Population Prospects 2019 Revision\n",
        "* `population_density` - World Bank World Development Indicators - sourced from Food and Agriculture Organization and World Bank estimates\n",
        "* `median_age` - UN Population Division - World Population Prospects - 2017 Revision\n",
        "* `aged_65_older` - World Bank World Development Indicators based on age/sex distributions of United Nations World Population Prospects 2017 Revision\n",
        "* `aged_70_older` - United Nations - Department of Economic and Social Affairs - Population Division (2017) - World Population Prospects 2017 Revision\n",
        "* `gdp_per_capita` - World Bank World Development Indicators - source from World Bank - International Comparison Program database\n",
        "* `extreme_poverty` - World Bank World Development Indicators - sourced from World Bank Development Research Group\n",
        "* `cardiovasc_death_rate` - Global Burden of Disease Collaborative Network - Global Burden of Disease Study 2017 Results\n",
        "* `diabetes_prevalence` - World Bank World Development Indicators - sourced from International Diabetes Federation - Diabetes Atlas\n",
        "* `female_smokers` - World Bank World Development Indicators - sourced from World Health Organization - Global Health Observatory Data Repository\n",
        "* `male_smokers` - World Bank World Development Indicators - sourced from World Health Organization` - Global Health Observatory Data Repository\n",
        "* `handwashing_facilities` - United Nations Statistics Division\n",
        "* `hospital_beds_per_thousand` - OECD - Eurostat - World Bank - national government records and other sources\n",
        "* `life_expectancy` - James C. Riley - Clio Infra - United Nations Population Division\n",
        "* `human_development_index` - United Nations Development Programme (UNDP)\n",
        "\n"
      ]
    },
    {
      "cell_type": "code",
      "metadata": {
        "id": "s2bYXXL-dA16"
      },
      "source": [
        "import requests\n",
        "import bs4"
      ],
      "execution_count": null,
      "outputs": []
    },
    {
      "cell_type": "code",
      "metadata": {
        "id": "FZzfSyrSdYv7"
      },
      "source": [
        "result = requests.get(\"https://github.com/owid/covid-19-data/blob/master/public/data/owid-covid-codebook.csv\")\n",
        "soup = bs4.BeautifulSoup(result.text, 'lxml')"
      ],
      "execution_count": null,
      "outputs": []
    },
    {
      "cell_type": "code",
      "metadata": {
        "id": "PKgnXLjpddrk"
      },
      "source": [
        "table_body=soup.find('tbody')\n",
        "rows = table_body.find_all('tr')\n",
        "for row in rows:\n",
        "    cols=row.find_all('td')\n",
        "    cols=[x.text.strip() for x in cols]\n",
        "    #use .pop to remove unwanted indexes from the list\n",
        "    cols.pop(0)\n",
        "    cols.pop(2)\n",
        "    #print cols makes a big list with all the info needed\n",
        "    #print(cols) \n",
        "    #then used regular expressions (REGEX) to format the list with proper colab text cell syntax"
      ],
      "execution_count": null,
      "outputs": []
    },
    {
      "cell_type": "markdown",
      "metadata": {
        "id": "ztV0cqe6c7xw"
      },
      "source": [
        "### Importing Libraries"
      ]
    },
    {
      "cell_type": "code",
      "metadata": {
        "id": "lOtEJxe0DMEb"
      },
      "source": [
        "# importar as bibliotecas necessárias\n",
        "import pandas as pd\n",
        "import matplotlib.pyplot as plt\n",
        "import seaborn as sns\n",
        "\n",
        "# Importing the data - This notebook was created using the data that was available at 04/19/2021, which was uploaded to my personal github\n",
        "DATA_PATH = ('https://github.com/Leomconti/data_science/raw/main/datasets/owid-covid-data.csv')"
      ],
      "execution_count": null,
      "outputs": []
    },
    {
      "cell_type": "markdown",
      "metadata": {
        "id": "qb5By2nIMS6m"
      },
      "source": [
        "## Exploratory Data Analysis\n",
        "\n",
        "\n"
      ]
    },
    {
      "cell_type": "code",
      "metadata": {
        "id": "gO1fv3D1PS4k",
        "colab": {
          "base_uri": "https://localhost:8080/",
          "height": 309
        },
        "outputId": "8486fc01-6762-4b9f-d4ff-fd087fc22129"
      },
      "source": [
        "#create the dataframe and have a look at 5 random entries\n",
        "df = pd.read_csv(DATA_PATH)\n",
        "df.sample(5)"
      ],
      "execution_count": null,
      "outputs": [
        {
          "output_type": "execute_result",
          "data": {
            "text/html": [
              "<div>\n",
              "<style scoped>\n",
              "    .dataframe tbody tr th:only-of-type {\n",
              "        vertical-align: middle;\n",
              "    }\n",
              "\n",
              "    .dataframe tbody tr th {\n",
              "        vertical-align: top;\n",
              "    }\n",
              "\n",
              "    .dataframe thead th {\n",
              "        text-align: right;\n",
              "    }\n",
              "</style>\n",
              "<table border=\"1\" class=\"dataframe\">\n",
              "  <thead>\n",
              "    <tr style=\"text-align: right;\">\n",
              "      <th></th>\n",
              "      <th>iso_code</th>\n",
              "      <th>continent</th>\n",
              "      <th>location</th>\n",
              "      <th>date</th>\n",
              "      <th>total_cases</th>\n",
              "      <th>new_cases</th>\n",
              "      <th>new_cases_smoothed</th>\n",
              "      <th>total_deaths</th>\n",
              "      <th>new_deaths</th>\n",
              "      <th>new_deaths_smoothed</th>\n",
              "      <th>total_cases_per_million</th>\n",
              "      <th>new_cases_per_million</th>\n",
              "      <th>new_cases_smoothed_per_million</th>\n",
              "      <th>total_deaths_per_million</th>\n",
              "      <th>new_deaths_per_million</th>\n",
              "      <th>new_deaths_smoothed_per_million</th>\n",
              "      <th>reproduction_rate</th>\n",
              "      <th>icu_patients</th>\n",
              "      <th>icu_patients_per_million</th>\n",
              "      <th>hosp_patients</th>\n",
              "      <th>hosp_patients_per_million</th>\n",
              "      <th>weekly_icu_admissions</th>\n",
              "      <th>weekly_icu_admissions_per_million</th>\n",
              "      <th>weekly_hosp_admissions</th>\n",
              "      <th>weekly_hosp_admissions_per_million</th>\n",
              "      <th>new_tests</th>\n",
              "      <th>total_tests</th>\n",
              "      <th>total_tests_per_thousand</th>\n",
              "      <th>new_tests_per_thousand</th>\n",
              "      <th>new_tests_smoothed</th>\n",
              "      <th>new_tests_smoothed_per_thousand</th>\n",
              "      <th>positive_rate</th>\n",
              "      <th>tests_per_case</th>\n",
              "      <th>tests_units</th>\n",
              "      <th>total_vaccinations</th>\n",
              "      <th>people_vaccinated</th>\n",
              "      <th>people_fully_vaccinated</th>\n",
              "      <th>new_vaccinations</th>\n",
              "      <th>new_vaccinations_smoothed</th>\n",
              "      <th>total_vaccinations_per_hundred</th>\n",
              "      <th>people_vaccinated_per_hundred</th>\n",
              "      <th>people_fully_vaccinated_per_hundred</th>\n",
              "      <th>new_vaccinations_smoothed_per_million</th>\n",
              "      <th>stringency_index</th>\n",
              "      <th>population</th>\n",
              "      <th>population_density</th>\n",
              "      <th>median_age</th>\n",
              "      <th>aged_65_older</th>\n",
              "      <th>aged_70_older</th>\n",
              "      <th>gdp_per_capita</th>\n",
              "      <th>extreme_poverty</th>\n",
              "      <th>cardiovasc_death_rate</th>\n",
              "      <th>diabetes_prevalence</th>\n",
              "      <th>female_smokers</th>\n",
              "      <th>male_smokers</th>\n",
              "      <th>handwashing_facilities</th>\n",
              "      <th>hospital_beds_per_thousand</th>\n",
              "      <th>life_expectancy</th>\n",
              "      <th>human_development_index</th>\n",
              "    </tr>\n",
              "  </thead>\n",
              "  <tbody>\n",
              "    <tr>\n",
              "      <th>80476</th>\n",
              "      <td>VNM</td>\n",
              "      <td>Asia</td>\n",
              "      <td>Vietnam</td>\n",
              "      <td>2020-03-04</td>\n",
              "      <td>16.0</td>\n",
              "      <td>0.0</td>\n",
              "      <td>0.000</td>\n",
              "      <td>NaN</td>\n",
              "      <td>NaN</td>\n",
              "      <td>0.000</td>\n",
              "      <td>0.164</td>\n",
              "      <td>0.000</td>\n",
              "      <td>0.000</td>\n",
              "      <td>NaN</td>\n",
              "      <td>NaN</td>\n",
              "      <td>0.000</td>\n",
              "      <td>NaN</td>\n",
              "      <td>NaN</td>\n",
              "      <td>NaN</td>\n",
              "      <td>NaN</td>\n",
              "      <td>NaN</td>\n",
              "      <td>NaN</td>\n",
              "      <td>NaN</td>\n",
              "      <td>NaN</td>\n",
              "      <td>NaN</td>\n",
              "      <td>63.0</td>\n",
              "      <td>1848.0</td>\n",
              "      <td>0.019</td>\n",
              "      <td>0.001</td>\n",
              "      <td>67.0</td>\n",
              "      <td>0.001</td>\n",
              "      <td>0.000</td>\n",
              "      <td>NaN</td>\n",
              "      <td>samples tested</td>\n",
              "      <td>NaN</td>\n",
              "      <td>NaN</td>\n",
              "      <td>NaN</td>\n",
              "      <td>NaN</td>\n",
              "      <td>NaN</td>\n",
              "      <td>NaN</td>\n",
              "      <td>NaN</td>\n",
              "      <td>NaN</td>\n",
              "      <td>NaN</td>\n",
              "      <td>47.22</td>\n",
              "      <td>97338583.0</td>\n",
              "      <td>308.127</td>\n",
              "      <td>32.6</td>\n",
              "      <td>7.150</td>\n",
              "      <td>4.718</td>\n",
              "      <td>6171.884</td>\n",
              "      <td>2.0</td>\n",
              "      <td>245.465</td>\n",
              "      <td>6.00</td>\n",
              "      <td>1.0</td>\n",
              "      <td>45.9</td>\n",
              "      <td>85.847</td>\n",
              "      <td>2.60</td>\n",
              "      <td>75.40</td>\n",
              "      <td>0.704</td>\n",
              "    </tr>\n",
              "    <tr>\n",
              "      <th>48058</th>\n",
              "      <td>MEX</td>\n",
              "      <td>North America</td>\n",
              "      <td>Mexico</td>\n",
              "      <td>2020-05-26</td>\n",
              "      <td>74560.0</td>\n",
              "      <td>3455.0</td>\n",
              "      <td>2887.714</td>\n",
              "      <td>8134.0</td>\n",
              "      <td>501.0</td>\n",
              "      <td>352.571</td>\n",
              "      <td>578.286</td>\n",
              "      <td>26.797</td>\n",
              "      <td>22.397</td>\n",
              "      <td>63.087</td>\n",
              "      <td>3.886</td>\n",
              "      <td>2.735</td>\n",
              "      <td>1.22</td>\n",
              "      <td>NaN</td>\n",
              "      <td>NaN</td>\n",
              "      <td>NaN</td>\n",
              "      <td>NaN</td>\n",
              "      <td>NaN</td>\n",
              "      <td>NaN</td>\n",
              "      <td>NaN</td>\n",
              "      <td>NaN</td>\n",
              "      <td>9145.0</td>\n",
              "      <td>264455.0</td>\n",
              "      <td>2.051</td>\n",
              "      <td>0.071</td>\n",
              "      <td>7457.0</td>\n",
              "      <td>0.058</td>\n",
              "      <td>0.485</td>\n",
              "      <td>2.1</td>\n",
              "      <td>people tested</td>\n",
              "      <td>NaN</td>\n",
              "      <td>NaN</td>\n",
              "      <td>NaN</td>\n",
              "      <td>NaN</td>\n",
              "      <td>NaN</td>\n",
              "      <td>NaN</td>\n",
              "      <td>NaN</td>\n",
              "      <td>NaN</td>\n",
              "      <td>NaN</td>\n",
              "      <td>82.41</td>\n",
              "      <td>128932753.0</td>\n",
              "      <td>66.444</td>\n",
              "      <td>29.3</td>\n",
              "      <td>6.857</td>\n",
              "      <td>4.321</td>\n",
              "      <td>17336.469</td>\n",
              "      <td>2.5</td>\n",
              "      <td>152.783</td>\n",
              "      <td>13.06</td>\n",
              "      <td>6.9</td>\n",
              "      <td>21.4</td>\n",
              "      <td>87.847</td>\n",
              "      <td>1.38</td>\n",
              "      <td>75.05</td>\n",
              "      <td>0.779</td>\n",
              "    </tr>\n",
              "    <tr>\n",
              "      <th>31465</th>\n",
              "      <td>GNB</td>\n",
              "      <td>Africa</td>\n",
              "      <td>Guinea-Bissau</td>\n",
              "      <td>2020-07-24</td>\n",
              "      <td>1954.0</td>\n",
              "      <td>0.0</td>\n",
              "      <td>3.857</td>\n",
              "      <td>26.0</td>\n",
              "      <td>0.0</td>\n",
              "      <td>0.000</td>\n",
              "      <td>992.887</td>\n",
              "      <td>0.000</td>\n",
              "      <td>1.960</td>\n",
              "      <td>13.211</td>\n",
              "      <td>0.000</td>\n",
              "      <td>0.000</td>\n",
              "      <td>0.77</td>\n",
              "      <td>NaN</td>\n",
              "      <td>NaN</td>\n",
              "      <td>NaN</td>\n",
              "      <td>NaN</td>\n",
              "      <td>NaN</td>\n",
              "      <td>NaN</td>\n",
              "      <td>NaN</td>\n",
              "      <td>NaN</td>\n",
              "      <td>NaN</td>\n",
              "      <td>NaN</td>\n",
              "      <td>NaN</td>\n",
              "      <td>NaN</td>\n",
              "      <td>NaN</td>\n",
              "      <td>NaN</td>\n",
              "      <td>NaN</td>\n",
              "      <td>NaN</td>\n",
              "      <td>NaN</td>\n",
              "      <td>NaN</td>\n",
              "      <td>NaN</td>\n",
              "      <td>NaN</td>\n",
              "      <td>NaN</td>\n",
              "      <td>NaN</td>\n",
              "      <td>NaN</td>\n",
              "      <td>NaN</td>\n",
              "      <td>NaN</td>\n",
              "      <td>NaN</td>\n",
              "      <td>NaN</td>\n",
              "      <td>1967998.0</td>\n",
              "      <td>66.191</td>\n",
              "      <td>19.4</td>\n",
              "      <td>3.002</td>\n",
              "      <td>1.565</td>\n",
              "      <td>1548.675</td>\n",
              "      <td>67.1</td>\n",
              "      <td>382.474</td>\n",
              "      <td>2.42</td>\n",
              "      <td>NaN</td>\n",
              "      <td>NaN</td>\n",
              "      <td>6.403</td>\n",
              "      <td>NaN</td>\n",
              "      <td>58.32</td>\n",
              "      <td>0.480</td>\n",
              "    </tr>\n",
              "    <tr>\n",
              "      <th>74128</th>\n",
              "      <td>THA</td>\n",
              "      <td>Asia</td>\n",
              "      <td>Thailand</td>\n",
              "      <td>2020-07-09</td>\n",
              "      <td>3202.0</td>\n",
              "      <td>5.0</td>\n",
              "      <td>3.286</td>\n",
              "      <td>58.0</td>\n",
              "      <td>0.0</td>\n",
              "      <td>0.000</td>\n",
              "      <td>45.874</td>\n",
              "      <td>0.072</td>\n",
              "      <td>0.047</td>\n",
              "      <td>0.831</td>\n",
              "      <td>0.000</td>\n",
              "      <td>0.000</td>\n",
              "      <td>0.96</td>\n",
              "      <td>NaN</td>\n",
              "      <td>NaN</td>\n",
              "      <td>NaN</td>\n",
              "      <td>NaN</td>\n",
              "      <td>NaN</td>\n",
              "      <td>NaN</td>\n",
              "      <td>NaN</td>\n",
              "      <td>NaN</td>\n",
              "      <td>4335.0</td>\n",
              "      <td>682574.0</td>\n",
              "      <td>9.779</td>\n",
              "      <td>0.062</td>\n",
              "      <td>3308.0</td>\n",
              "      <td>0.047</td>\n",
              "      <td>0.001</td>\n",
              "      <td>1000.0</td>\n",
              "      <td>tests performed</td>\n",
              "      <td>NaN</td>\n",
              "      <td>NaN</td>\n",
              "      <td>NaN</td>\n",
              "      <td>NaN</td>\n",
              "      <td>NaN</td>\n",
              "      <td>NaN</td>\n",
              "      <td>NaN</td>\n",
              "      <td>NaN</td>\n",
              "      <td>NaN</td>\n",
              "      <td>52.78</td>\n",
              "      <td>69799978.0</td>\n",
              "      <td>135.132</td>\n",
              "      <td>40.1</td>\n",
              "      <td>11.373</td>\n",
              "      <td>6.890</td>\n",
              "      <td>16277.671</td>\n",
              "      <td>0.1</td>\n",
              "      <td>109.861</td>\n",
              "      <td>7.04</td>\n",
              "      <td>1.9</td>\n",
              "      <td>38.8</td>\n",
              "      <td>90.670</td>\n",
              "      <td>2.10</td>\n",
              "      <td>77.15</td>\n",
              "      <td>0.777</td>\n",
              "    </tr>\n",
              "    <tr>\n",
              "      <th>74914</th>\n",
              "      <td>TGO</td>\n",
              "      <td>Africa</td>\n",
              "      <td>Togo</td>\n",
              "      <td>2020-06-21</td>\n",
              "      <td>569.0</td>\n",
              "      <td>8.0</td>\n",
              "      <td>5.571</td>\n",
              "      <td>13.0</td>\n",
              "      <td>0.0</td>\n",
              "      <td>0.000</td>\n",
              "      <td>68.730</td>\n",
              "      <td>0.966</td>\n",
              "      <td>0.673</td>\n",
              "      <td>1.570</td>\n",
              "      <td>0.000</td>\n",
              "      <td>0.000</td>\n",
              "      <td>1.04</td>\n",
              "      <td>NaN</td>\n",
              "      <td>NaN</td>\n",
              "      <td>NaN</td>\n",
              "      <td>NaN</td>\n",
              "      <td>NaN</td>\n",
              "      <td>NaN</td>\n",
              "      <td>NaN</td>\n",
              "      <td>NaN</td>\n",
              "      <td>162.0</td>\n",
              "      <td>28003.0</td>\n",
              "      <td>3.383</td>\n",
              "      <td>0.020</td>\n",
              "      <td>351.0</td>\n",
              "      <td>0.042</td>\n",
              "      <td>0.016</td>\n",
              "      <td>63.0</td>\n",
              "      <td>tests performed</td>\n",
              "      <td>NaN</td>\n",
              "      <td>NaN</td>\n",
              "      <td>NaN</td>\n",
              "      <td>NaN</td>\n",
              "      <td>NaN</td>\n",
              "      <td>NaN</td>\n",
              "      <td>NaN</td>\n",
              "      <td>NaN</td>\n",
              "      <td>NaN</td>\n",
              "      <td>53.70</td>\n",
              "      <td>8278737.0</td>\n",
              "      <td>143.366</td>\n",
              "      <td>19.4</td>\n",
              "      <td>2.839</td>\n",
              "      <td>1.525</td>\n",
              "      <td>1429.813</td>\n",
              "      <td>49.2</td>\n",
              "      <td>280.033</td>\n",
              "      <td>6.15</td>\n",
              "      <td>0.9</td>\n",
              "      <td>14.2</td>\n",
              "      <td>10.475</td>\n",
              "      <td>0.70</td>\n",
              "      <td>61.04</td>\n",
              "      <td>0.515</td>\n",
              "    </tr>\n",
              "  </tbody>\n",
              "</table>\n",
              "</div>"
            ],
            "text/plain": [
              "      iso_code      continent  ... life_expectancy human_development_index\n",
              "80476      VNM           Asia  ...           75.40                   0.704\n",
              "48058      MEX  North America  ...           75.05                   0.779\n",
              "31465      GNB         Africa  ...           58.32                   0.480\n",
              "74128      THA           Asia  ...           77.15                   0.777\n",
              "74914      TGO         Africa  ...           61.04                   0.515\n",
              "\n",
              "[5 rows x 59 columns]"
            ]
          },
          "metadata": {
            "tags": []
          },
          "execution_count": 5
        }
      ]
    },
    {
      "cell_type": "code",
      "metadata": {
        "colab": {
          "base_uri": "https://localhost:8080/"
        },
        "id": "cLJlMjpZRxXu",
        "outputId": "f8eaade8-959e-48e8-b77f-a720a3c8a86a"
      },
      "source": [
        "#get to know the size of the dataframe\n",
        "print('Lines : {}'.format(df.shape[0]))\n",
        "print('Columns : {}'.format(df.shape[1]))"
      ],
      "execution_count": null,
      "outputs": [
        {
          "output_type": "stream",
          "text": [
            "Lines : 82506\n",
            "Columns : 59\n"
          ],
          "name": "stdout"
        }
      ]
    },
    {
      "cell_type": "code",
      "metadata": {
        "id": "eGRjuN5URxwy",
        "colab": {
          "base_uri": "https://localhost:8080/"
        },
        "outputId": "fb3d46f2-58ed-488c-d57e-614e4a87bbe3"
      },
      "source": [
        "#get to know what datatypes we're working with\n",
        "df.dtypes"
      ],
      "execution_count": null,
      "outputs": [
        {
          "output_type": "execute_result",
          "data": {
            "text/plain": [
              "iso_code                                  object\n",
              "continent                                 object\n",
              "location                                  object\n",
              "date                                      object\n",
              "total_cases                              float64\n",
              "new_cases                                float64\n",
              "new_cases_smoothed                       float64\n",
              "total_deaths                             float64\n",
              "new_deaths                               float64\n",
              "new_deaths_smoothed                      float64\n",
              "total_cases_per_million                  float64\n",
              "new_cases_per_million                    float64\n",
              "new_cases_smoothed_per_million           float64\n",
              "total_deaths_per_million                 float64\n",
              "new_deaths_per_million                   float64\n",
              "new_deaths_smoothed_per_million          float64\n",
              "reproduction_rate                        float64\n",
              "icu_patients                             float64\n",
              "icu_patients_per_million                 float64\n",
              "hosp_patients                            float64\n",
              "hosp_patients_per_million                float64\n",
              "weekly_icu_admissions                    float64\n",
              "weekly_icu_admissions_per_million        float64\n",
              "weekly_hosp_admissions                   float64\n",
              "weekly_hosp_admissions_per_million       float64\n",
              "new_tests                                float64\n",
              "total_tests                              float64\n",
              "total_tests_per_thousand                 float64\n",
              "new_tests_per_thousand                   float64\n",
              "new_tests_smoothed                       float64\n",
              "new_tests_smoothed_per_thousand          float64\n",
              "positive_rate                            float64\n",
              "tests_per_case                           float64\n",
              "tests_units                               object\n",
              "total_vaccinations                       float64\n",
              "people_vaccinated                        float64\n",
              "people_fully_vaccinated                  float64\n",
              "new_vaccinations                         float64\n",
              "new_vaccinations_smoothed                float64\n",
              "total_vaccinations_per_hundred           float64\n",
              "people_vaccinated_per_hundred            float64\n",
              "people_fully_vaccinated_per_hundred      float64\n",
              "new_vaccinations_smoothed_per_million    float64\n",
              "stringency_index                         float64\n",
              "population                               float64\n",
              "population_density                       float64\n",
              "median_age                               float64\n",
              "aged_65_older                            float64\n",
              "aged_70_older                            float64\n",
              "gdp_per_capita                           float64\n",
              "extreme_poverty                          float64\n",
              "cardiovasc_death_rate                    float64\n",
              "diabetes_prevalence                      float64\n",
              "female_smokers                           float64\n",
              "male_smokers                             float64\n",
              "handwashing_facilities                   float64\n",
              "hospital_beds_per_thousand               float64\n",
              "life_expectancy                          float64\n",
              "human_development_index                  float64\n",
              "dtype: object"
            ]
          },
          "metadata": {
            "tags": []
          },
          "execution_count": 7
        }
      ]
    },
    {
      "cell_type": "code",
      "metadata": {
        "colab": {
          "base_uri": "https://localhost:8080/"
        },
        "collapsed": true,
        "id": "o67-l9fdnQXH",
        "outputId": "99cb939f-09f2-40e6-992d-fef3a01d5ab1"
      },
      "source": [
        "#percentage of missing values in each column\n",
        "(df.isnull().sum()/df.shape[0]).sort_values(ascending = False)"
      ],
      "execution_count": null,
      "outputs": [
        {
          "output_type": "execute_result",
          "data": {
            "text/plain": [
              "weekly_icu_admissions                    0.991140\n",
              "weekly_icu_admissions_per_million        0.991140\n",
              "weekly_hosp_admissions                   0.984777\n",
              "weekly_hosp_admissions_per_million       0.984777\n",
              "people_fully_vaccinated                  0.936235\n",
              "people_fully_vaccinated_per_hundred      0.936235\n",
              "new_vaccinations                         0.918067\n",
              "people_vaccinated                        0.911631\n",
              "people_vaccinated_per_hundred            0.911631\n",
              "total_vaccinations                       0.903571\n",
              "total_vaccinations_per_hundred           0.903571\n",
              "icu_patients_per_million                 0.895535\n",
              "icu_patients                             0.895535\n",
              "hosp_patients                            0.874033\n",
              "hosp_patients_per_million                0.874033\n",
              "new_vaccinations_smoothed_per_million    0.845332\n",
              "new_vaccinations_smoothed                0.845332\n",
              "total_tests                              0.546966\n",
              "total_tests_per_thousand                 0.546966\n",
              "new_tests_per_thousand                   0.543500\n",
              "new_tests                                0.543500\n",
              "handwashing_facilities                   0.541039\n",
              "tests_per_case                           0.505212\n",
              "positive_rate                            0.498037\n",
              "new_tests_smoothed                       0.477759\n",
              "new_tests_smoothed_per_thousand          0.477759\n",
              "tests_units                              0.460657\n",
              "extreme_poverty                          0.382469\n",
              "male_smokers                             0.294306\n",
              "female_smokers                           0.283725\n",
              "reproduction_rate                        0.193077\n",
              "hospital_beds_per_thousand               0.165782\n",
              "stringency_index                         0.153601\n",
              "total_deaths_per_million                 0.143165\n",
              "new_deaths_per_million                   0.141250\n",
              "total_deaths                             0.138026\n",
              "new_deaths                               0.136111\n",
              "aged_65_older                            0.108271\n",
              "aged_70_older                            0.103011\n",
              "median_age                               0.097944\n",
              "gdp_per_capita                           0.094017\n",
              "human_development_index                  0.087630\n",
              "cardiovasc_death_rate                    0.086418\n",
              "diabetes_prevalence                      0.074007\n",
              "population_density                       0.068759\n",
              "life_expectancy                          0.050942\n",
              "continent                                0.048518\n",
              "new_cases_smoothed_per_million           0.039476\n",
              "new_deaths_smoothed_per_million          0.039476\n",
              "new_deaths_smoothed                      0.034240\n",
              "new_cases_smoothed                       0.034240\n",
              "new_cases_per_million                    0.027404\n",
              "total_cases_per_million                  0.027380\n",
              "new_cases                                0.022107\n",
              "total_cases                              0.022083\n",
              "population                               0.006400\n",
              "date                                     0.000000\n",
              "location                                 0.000000\n",
              "iso_code                                 0.000000\n",
              "dtype: float64"
            ]
          },
          "metadata": {
            "tags": []
          },
          "execution_count": 8
        }
      ]
    },
    {
      "cell_type": "code",
      "metadata": {
        "id": "ZpLq54Apnn1X"
      },
      "source": [
        "#transform date column from object to datetime\n",
        "df.date = pd.to_datetime(df.date)"
      ],
      "execution_count": null,
      "outputs": []
    },
    {
      "cell_type": "code",
      "metadata": {
        "colab": {
          "base_uri": "https://localhost:8080/",
          "height": 390
        },
        "id": "v6WA_uTJxQkN",
        "outputId": "0c6ce4b1-272d-4b76-c2b0-447e9f48a981"
      },
      "source": [
        "#clean dataset, removing continents from the location column\n",
        "df_countries = df.drop(df.index[[25446,54714,25898,68945,4307]])\n",
        "df_countries.loc[df_countries.date == '2021-04-18', ['location', 'total_deaths']].sort_values(by='total_deaths', ascending = False) [0:11]"
      ],
      "execution_count": null,
      "outputs": [
        {
          "output_type": "execute_result",
          "data": {
            "text/html": [
              "<div>\n",
              "<style scoped>\n",
              "    .dataframe tbody tr th:only-of-type {\n",
              "        vertical-align: middle;\n",
              "    }\n",
              "\n",
              "    .dataframe tbody tr th {\n",
              "        vertical-align: top;\n",
              "    }\n",
              "\n",
              "    .dataframe thead th {\n",
              "        text-align: right;\n",
              "    }\n",
              "</style>\n",
              "<table border=\"1\" class=\"dataframe\">\n",
              "  <thead>\n",
              "    <tr style=\"text-align: right;\">\n",
              "      <th></th>\n",
              "      <th>location</th>\n",
              "      <th>total_deaths</th>\n",
              "    </tr>\n",
              "  </thead>\n",
              "  <tbody>\n",
              "    <tr>\n",
              "      <th>81339</th>\n",
              "      <td>World</td>\n",
              "      <td>3019330.0</td>\n",
              "    </tr>\n",
              "    <tr>\n",
              "      <th>78662</th>\n",
              "      <td>United States</td>\n",
              "      <td>567217.0</td>\n",
              "    </tr>\n",
              "    <tr>\n",
              "      <th>10982</th>\n",
              "      <td>Brazil</td>\n",
              "      <td>373335.0</td>\n",
              "    </tr>\n",
              "    <tr>\n",
              "      <th>48385</th>\n",
              "      <td>Mexico</td>\n",
              "      <td>212339.0</td>\n",
              "    </tr>\n",
              "    <tr>\n",
              "      <th>34336</th>\n",
              "      <td>India</td>\n",
              "      <td>178769.0</td>\n",
              "    </tr>\n",
              "    <tr>\n",
              "      <th>78209</th>\n",
              "      <td>United Kingdom</td>\n",
              "      <td>127518.0</td>\n",
              "    </tr>\n",
              "    <tr>\n",
              "      <th>850</th>\n",
              "      <td>Africa</td>\n",
              "      <td>117898.0</td>\n",
              "    </tr>\n",
              "    <tr>\n",
              "      <th>37402</th>\n",
              "      <td>Italy</td>\n",
              "      <td>116927.0</td>\n",
              "    </tr>\n",
              "    <tr>\n",
              "      <th>61572</th>\n",
              "      <td>Russia</td>\n",
              "      <td>103834.0</td>\n",
              "    </tr>\n",
              "    <tr>\n",
              "      <th>27377</th>\n",
              "      <td>France</td>\n",
              "      <td>100892.0</td>\n",
              "    </tr>\n",
              "    <tr>\n",
              "      <th>29042</th>\n",
              "      <td>Germany</td>\n",
              "      <td>80052.0</td>\n",
              "    </tr>\n",
              "  </tbody>\n",
              "</table>\n",
              "</div>"
            ],
            "text/plain": [
              "             location  total_deaths\n",
              "81339           World     3019330.0\n",
              "78662   United States      567217.0\n",
              "10982          Brazil      373335.0\n",
              "48385          Mexico      212339.0\n",
              "34336           India      178769.0\n",
              "78209  United Kingdom      127518.0\n",
              "850            Africa      117898.0\n",
              "37402           Italy      116927.0\n",
              "61572          Russia      103834.0\n",
              "27377          France      100892.0\n",
              "29042         Germany       80052.0"
            ]
          },
          "metadata": {
            "tags": []
          },
          "execution_count": 10
        }
      ]
    },
    {
      "cell_type": "markdown",
      "metadata": {
        "id": "r6pzaEpRxWZd"
      },
      "source": [
        ""
      ]
    },
    {
      "cell_type": "code",
      "metadata": {
        "colab": {
          "base_uri": "https://localhost:8080/",
          "height": 390
        },
        "collapsed": true,
        "id": "ITB1ISJro9CS",
        "outputId": "8e73f4f0-bc28-4cf5-96cb-95a3e013b3c3"
      },
      "source": [
        "#countries/continents with most cases of covid-19 in total\n",
        "df.loc[df.date == '2021-04-18', ['location', 'total_cases']].sort_values(by='total_cases', ascending = False) [0:11]"
      ],
      "execution_count": null,
      "outputs": [
        {
          "output_type": "execute_result",
          "data": {
            "text/html": [
              "<div>\n",
              "<style scoped>\n",
              "    .dataframe tbody tr th:only-of-type {\n",
              "        vertical-align: middle;\n",
              "    }\n",
              "\n",
              "    .dataframe tbody tr th {\n",
              "        vertical-align: top;\n",
              "    }\n",
              "\n",
              "    .dataframe thead th {\n",
              "        text-align: right;\n",
              "    }\n",
              "</style>\n",
              "<table border=\"1\" class=\"dataframe\">\n",
              "  <thead>\n",
              "    <tr style=\"text-align: right;\">\n",
              "      <th></th>\n",
              "      <th>location</th>\n",
              "      <th>total_cases</th>\n",
              "    </tr>\n",
              "  </thead>\n",
              "  <tbody>\n",
              "    <tr>\n",
              "      <th>81339</th>\n",
              "      <td>World</td>\n",
              "      <td>141404998.0</td>\n",
              "    </tr>\n",
              "    <tr>\n",
              "      <th>25446</th>\n",
              "      <td>Europe</td>\n",
              "      <td>43093965.0</td>\n",
              "    </tr>\n",
              "    <tr>\n",
              "      <th>54714</th>\n",
              "      <td>North America</td>\n",
              "      <td>36636567.0</td>\n",
              "    </tr>\n",
              "    <tr>\n",
              "      <th>4307</th>\n",
              "      <td>Asia</td>\n",
              "      <td>33818604.0</td>\n",
              "    </tr>\n",
              "    <tr>\n",
              "      <th>78662</th>\n",
              "      <td>United States</td>\n",
              "      <td>31670031.0</td>\n",
              "    </tr>\n",
              "    <tr>\n",
              "      <th>25898</th>\n",
              "      <td>European Union</td>\n",
              "      <td>29358117.0</td>\n",
              "    </tr>\n",
              "    <tr>\n",
              "      <th>68945</th>\n",
              "      <td>South America</td>\n",
              "      <td>23381531.0</td>\n",
              "    </tr>\n",
              "    <tr>\n",
              "      <th>34336</th>\n",
              "      <td>India</td>\n",
              "      <td>15061805.0</td>\n",
              "    </tr>\n",
              "    <tr>\n",
              "      <th>10982</th>\n",
              "      <td>Brazil</td>\n",
              "      <td>13943071.0</td>\n",
              "    </tr>\n",
              "    <tr>\n",
              "      <th>27377</th>\n",
              "      <td>France</td>\n",
              "      <td>5350521.0</td>\n",
              "    </tr>\n",
              "    <tr>\n",
              "      <th>61572</th>\n",
              "      <td>Russia</td>\n",
              "      <td>4649044.0</td>\n",
              "    </tr>\n",
              "  </tbody>\n",
              "</table>\n",
              "</div>"
            ],
            "text/plain": [
              "             location  total_cases\n",
              "81339           World  141404998.0\n",
              "25446          Europe   43093965.0\n",
              "54714   North America   36636567.0\n",
              "4307             Asia   33818604.0\n",
              "78662   United States   31670031.0\n",
              "25898  European Union   29358117.0\n",
              "68945   South America   23381531.0\n",
              "34336           India   15061805.0\n",
              "10982          Brazil   13943071.0\n",
              "27377          France    5350521.0\n",
              "61572          Russia    4649044.0"
            ]
          },
          "metadata": {
            "tags": []
          },
          "execution_count": 22
        }
      ]
    },
    {
      "cell_type": "markdown",
      "metadata": {
        "id": "DR9hhvzApeVY"
      },
      "source": [
        "Unites states is the country with the largest ammount of cases, being followed by India and Brazil."
      ]
    },
    {
      "cell_type": "code",
      "metadata": {
        "colab": {
          "base_uri": "https://localhost:8080/"
        },
        "id": "sawVtGSLOsyO",
        "outputId": "ba2d7652-21b6-4a62-9c54-f017a93a5793"
      },
      "source": [
        "#total_deaths divided by total_cases, numbers gotten from the location \"World\"\n",
        "print((3019330 / 141404998) *100)"
      ],
      "execution_count": null,
      "outputs": [
        {
          "output_type": "stream",
          "text": [
            "2.135235700791849\n"
          ],
          "name": "stdout"
        }
      ]
    },
    {
      "cell_type": "code",
      "metadata": {
        "colab": {
          "base_uri": "https://localhost:8080/",
          "height": 359
        },
        "collapsed": true,
        "id": "YHUEbfzuRyBQ",
        "outputId": "170e6ca9-6c9a-4532-ff9e-7b81521dee8e"
      },
      "source": [
        "#countries/continents with most deaths by covid-19 in total\n",
        "df.loc[df.date == '2021-04-18', ['location', 'total_deaths']].sort_values(by='total_deaths', ascending = False) [1:11]"
      ],
      "execution_count": null,
      "outputs": [
        {
          "output_type": "execute_result",
          "data": {
            "text/html": [
              "<div>\n",
              "<style scoped>\n",
              "    .dataframe tbody tr th:only-of-type {\n",
              "        vertical-align: middle;\n",
              "    }\n",
              "\n",
              "    .dataframe tbody tr th {\n",
              "        vertical-align: top;\n",
              "    }\n",
              "\n",
              "    .dataframe thead th {\n",
              "        text-align: right;\n",
              "    }\n",
              "</style>\n",
              "<table border=\"1\" class=\"dataframe\">\n",
              "  <thead>\n",
              "    <tr style=\"text-align: right;\">\n",
              "      <th></th>\n",
              "      <th>location</th>\n",
              "      <th>total_deaths</th>\n",
              "    </tr>\n",
              "  </thead>\n",
              "  <tbody>\n",
              "    <tr>\n",
              "      <th>25446</th>\n",
              "      <td>Europe</td>\n",
              "      <td>977779.0</td>\n",
              "    </tr>\n",
              "    <tr>\n",
              "      <th>54714</th>\n",
              "      <td>North America</td>\n",
              "      <td>832594.0</td>\n",
              "    </tr>\n",
              "    <tr>\n",
              "      <th>25898</th>\n",
              "      <td>European Union</td>\n",
              "      <td>661284.0</td>\n",
              "    </tr>\n",
              "    <tr>\n",
              "      <th>68945</th>\n",
              "      <td>South America</td>\n",
              "      <td>622800.0</td>\n",
              "    </tr>\n",
              "    <tr>\n",
              "      <th>78662</th>\n",
              "      <td>United States</td>\n",
              "      <td>567217.0</td>\n",
              "    </tr>\n",
              "    <tr>\n",
              "      <th>4307</th>\n",
              "      <td>Asia</td>\n",
              "      <td>467217.0</td>\n",
              "    </tr>\n",
              "    <tr>\n",
              "      <th>10982</th>\n",
              "      <td>Brazil</td>\n",
              "      <td>373335.0</td>\n",
              "    </tr>\n",
              "    <tr>\n",
              "      <th>48385</th>\n",
              "      <td>Mexico</td>\n",
              "      <td>212339.0</td>\n",
              "    </tr>\n",
              "    <tr>\n",
              "      <th>34336</th>\n",
              "      <td>India</td>\n",
              "      <td>178769.0</td>\n",
              "    </tr>\n",
              "    <tr>\n",
              "      <th>78209</th>\n",
              "      <td>United Kingdom</td>\n",
              "      <td>127518.0</td>\n",
              "    </tr>\n",
              "  </tbody>\n",
              "</table>\n",
              "</div>"
            ],
            "text/plain": [
              "             location  total_deaths\n",
              "25446          Europe      977779.0\n",
              "54714   North America      832594.0\n",
              "25898  European Union      661284.0\n",
              "68945   South America      622800.0\n",
              "78662   United States      567217.0\n",
              "4307             Asia      467217.0\n",
              "10982          Brazil      373335.0\n",
              "48385          Mexico      212339.0\n",
              "34336           India      178769.0\n",
              "78209  United Kingdom      127518.0"
            ]
          },
          "metadata": {
            "tags": []
          },
          "execution_count": 13
        }
      ]
    },
    {
      "cell_type": "markdown",
      "metadata": {
        "id": "pk4giPOQoQZk"
      },
      "source": [
        "As seen above, Europe leads as the continent with most Deaths, and Asia is the continent with least deaths, even though it is the third in total cases, going even below United States which has an alerting number of 567217 total deaths."
      ]
    },
    {
      "cell_type": "code",
      "metadata": {
        "colab": {
          "base_uri": "https://localhost:8080/",
          "height": 437
        },
        "id": "lsqFLkJXRycN",
        "outputId": "3005445e-ac5f-401a-dd53-e089edd6e3a2"
      },
      "source": [
        "#Use .loc to isolate the part of the dataset we want to be use\n",
        "top_5_total_deaths = df_countries.loc[df_countries.date == '2021-04-18', ['location', 'total_deaths']].sort_values(by='total_deaths', ascending = False) [1:6]\n",
        "#plot a bar graph with the 5 countries with most deaths by covid-19\n",
        "sns.set()\n",
        "fig, ax = plt.subplots(figsize=(12,6))\n",
        "\n",
        "ax.bar('location','total_deaths', data = top_5_total_deaths)\n",
        "ax.set_xlabel(\"Countries\")\n",
        "ax.set_ylabel(\"Total_deaths\")\n",
        "\n",
        "plt.tight_layout()"
      ],
      "execution_count": null,
      "outputs": [
        {
          "output_type": "display_data",
          "data": {
            "image/png": "[encoded data removed]",
            "text/plain": [
              "<Figure size 864x432 with 1 Axes>"
            ]
          },
          "metadata": {
            "tags": []
          }
        }
      ]
    },
    {
      "cell_type": "code",
      "metadata": {
        "colab": {
          "base_uri": "https://localhost:8080/",
          "height": 437
        },
        "id": "VU51oYuRBqpF",
        "outputId": "f5666526-715d-462a-821d-5d3b3ff0fdf2"
      },
      "source": [
        "#graph for covid cases evolution in the entire world\n",
        "world_data = df.loc[df.location == 'World',['date','total_cases','total_deaths']]\n",
        "\n",
        "fig, ax = plt.subplots(figsize = (12,6))\n",
        "\n",
        "ax.plot('date','total_cases', data = world_data)\n",
        "ax.plot('date','total_deaths', data = world_data)\n",
        "ax.set_xlabel('Date')\n",
        "plt.ticklabel_format(style = 'plain', axis = 'y')\n",
        "\n",
        "ax.legend()\n",
        "plt.tight_layout()"
      ],
      "execution_count": null,
      "outputs": [
        {
          "output_type": "display_data",
          "data": {
            "image/png": "[encoded data removed]",
            "text/plain": [
              "<Figure size 864x432 with 1 Axes>"
            ]
          },
          "metadata": {
            "tags": []
          }
        }
      ]
    },
    {
      "cell_type": "markdown",
      "metadata": {
        "id": "7Bio7MflOSA_"
      },
      "source": [
        "Looking at the graph above, it's seen that the number of cases has exponentially increased to more than 140 million cases worldwide in 16 months, whereas the total deaths in percentage may seem low, at 0.021% of the total cases, they still represent 3 million people that died due to covid-19.\n"
      ]
    },
    {
      "cell_type": "markdown",
      "metadata": {
        "id": "fD70XpvoYFeV"
      },
      "source": [
        "To show that the deaths are still increasing, I plotted a total_deaths column graph as shown below."
      ]
    },
    {
      "cell_type": "code",
      "metadata": {
        "colab": {
          "base_uri": "https://localhost:8080/",
          "height": 365
        },
        "cellView": "form",
        "id": "WI7MRNxHOQwK",
        "outputId": "1947d337-72f2-4d63-fe8c-b8c52414707b"
      },
      "source": [
        "#@title\n",
        "#graph for covid deathsin the entire world\n",
        "world_data = df.loc[df.location == 'World',['date','total_deaths']]\n",
        "\n",
        "fig, ax = plt.subplots(figsize = (10,5))\n",
        "\n",
        "ax.plot('date','total_deaths', color='darkorange',data = world_data)\n",
        "ax.set_xlabel('Date')\n",
        "plt.ticklabel_format(style = 'plain', axis = 'y')\n",
        "\n",
        "fig.autofmt_xdate()\n",
        "\n",
        "ax.legend()\n",
        "plt.tight_layout()"
      ],
      "execution_count": null,
      "outputs": [
        {
          "output_type": "display_data",
          "data": {
            "image/png": "[encoded data removed]",
            "text/plain": [
              "<Figure size 720x360 with 1 Axes>"
            ]
          },
          "metadata": {
            "tags": []
          }
        }
      ]
    },
    {
      "cell_type": "markdown",
      "metadata": {
        "id": "SViA5VZ7DYLA"
      },
      "source": [
        "### Brazil Exploratory Analisis"
      ]
    },
    {
      "cell_type": "code",
      "metadata": {
        "id": "UDQA502_hAwI"
      },
      "source": [
        "df_brazil = df.loc[df.location == 'Brazil'].copy()"
      ],
      "execution_count": null,
      "outputs": []
    },
    {
      "cell_type": "code",
      "metadata": {
        "colab": {
          "base_uri": "https://localhost:8080/"
        },
        "id": "eyjV-vveZXBU",
        "outputId": "d5058f27-6a58-4c77-9eee-c8cbfcddf61d"
      },
      "source": [
        "#use .loc to identify the first entry where new_deaths were different than 0\n",
        "(df_brazil.loc[df_brazil['new_deaths']>=1]).date.head(1)"
      ],
      "execution_count": null,
      "outputs": [
        {
          "output_type": "execute_result",
          "data": {
            "text/plain": [
              "10585   2020-03-17\n",
              "Name: date, dtype: datetime64[ns]"
            ]
          },
          "metadata": {
            "tags": []
          },
          "execution_count": 18
        }
      ]
    },
    {
      "cell_type": "markdown",
      "metadata": {
        "id": "31_I6vWhhlGP"
      },
      "source": [
        "* March 17th of 2020 the first person died of Covid-19 in Brazil"
      ]
    },
    {
      "cell_type": "code",
      "metadata": {
        "colab": {
          "base_uri": "https://localhost:8080/"
        },
        "id": "E6thaI-tZ0l8",
        "outputId": "48c9d3f5-382f-4185-e57a-a8a69a8e0a54"
      },
      "source": [
        "(df_brazil.loc[df_brazil['new_cases']>=1]).date.head(1)"
      ],
      "execution_count": null,
      "outputs": [
        {
          "output_type": "execute_result",
          "data": {
            "text/plain": [
              "10565   2020-02-26\n",
              "Name: date, dtype: datetime64[ns]"
            ]
          },
          "metadata": {
            "tags": []
          },
          "execution_count": 19
        }
      ]
    },
    {
      "cell_type": "markdown",
      "metadata": {
        "id": "CiOqz5OnhnZ3"
      },
      "source": [
        "* February 26th of 2020 was when the first Covid-19 was identified in Brazil"
      ]
    },
    {
      "cell_type": "markdown",
      "metadata": {
        "id": "AHsxZxUNha16"
      },
      "source": [
        "* It took 20 days for a death to be reported after the first case was identified"
      ]
    },
    {
      "cell_type": "markdown",
      "metadata": {
        "id": "4Hu6GExSl9i9"
      },
      "source": [
        "Lastly, we'll be plotting multiple line graphs to compare the evolution of coronavirus cases and deaths in Brazil."
      ]
    },
    {
      "cell_type": "code",
      "metadata": {
        "colab": {
          "base_uri": "https://localhost:8080/",
          "height": 559
        },
        "id": "33HWYIBMhVnv",
        "outputId": "401eb954-0db0-4ff8-fab4-f34a3e15e8b3"
      },
      "source": [
        "fig, ((ax1, ax2), (ax3, ax4)) = plt.subplots(nrows=2, ncols = 2,figsize = (12,8))\n",
        "#change x axis to days that passed with covid-19 around by looking at the shape of the dataframe (df_brazil.shape[0]) \n",
        "x = list(range(418))\n",
        "\n",
        "ax1.plot( x,'total_cases',data = df_brazil)\n",
        "ax1.set_title('Total Cases')\n",
        "ax1.ticklabel_format(style = 'plain', axis = 'y')\n",
        "\n",
        "ax3.plot( x ,'total_deaths',data = df_brazil)\n",
        "ax3.set_title('Total Deaths')\n",
        "\n",
        "ax2.set_yscale('log')\n",
        "ax2.plot(x,'total_cases',data = df_brazil)\n",
        "ax2.set_title('Total Cases')\n",
        "\n",
        "ax4.set_yscale('log')\n",
        "ax4.plot( x ,'total_deaths',data = df_brazil)\n",
        "ax4.set_title('Total Deaths')\n",
        "\n",
        "fig.tight_layout(pad = 2.0)"
      ],
      "execution_count": null,
      "outputs": [
        {
          "output_type": "display_data",
          "data": {
            "image/png": "[encoded data removed]",
            "text/plain": [
              "<Figure size 864x576 with 4 Axes>"
            ]
          },
          "metadata": {
            "tags": []
          }
        }
      ]
    },
    {
      "cell_type": "markdown",
      "metadata": {
        "id": "LCsiXvM3BcsO"
      },
      "source": [
        "## Conclusion\n",
        "\n"
      ]
    },
    {
      "cell_type": "markdown",
      "metadata": {
        "id": "STEcJh9VA9G4"
      },
      "source": [
        "With the rapid increase of covid cases, the dataset used will, and already is outdated, but so far conclusions gathered from the analysis of this data could lead us to identify that:\n",
        "\n",
        "- Although The United States are leaders in Covid death and cases, Brazil is also going up in this ladder, which could be overwhelming if most of the population can't be vaccinated soon.\n",
        "\n",
        "- All around the world, Deaths and Cases are still going up.\n",
        "\n",
        "- The number of cases and deaths in India could be alarming, as it has more than a billion citizens in a crowded country, allowing the virus to spread faster and mutate into more dangerous variants.\n",
        "\n",
        "\n"
      ]
    }
  ]
}